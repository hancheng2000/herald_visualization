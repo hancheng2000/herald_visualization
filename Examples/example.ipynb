{
 "cells": [
  {
   "cell_type": "code",
   "execution_count": 1,
   "metadata": {},
   "outputs": [],
   "source": [
    "import matplotlib.pyplot as plt\n",
    "import pandas as pd\n",
    "import numpy as np\n",
    "import glob, os\n",
    "import herald_visualization.echem as ec\n",
    "from herald_visualization.mpr2csv import mpr2csv"
   ]
  },
  {
   "cell_type": "code",
   "execution_count": 2,
   "metadata": {},
   "outputs": [],
   "source": [
    "plt_params = {# 'axes.labelsize': 'x-large',\n",
    "#               'axes.titlesize': 'x-large',\n",
    "#               'xtick.labelsize': 'x-large',\n",
    "#               'ytick.labelsize': 'x-large',\n",
    "              'font.family': 'serif',\n",
    "              'axes.labelsize': 20,\n",
    "              'axes.labelweight': 'bold',  # Make axes labels bold\n",
    "              'xtick.labelsize': 18,\n",
    "              'ytick.labelsize': 18,\n",
    "              'xtick.major.size': 7,\n",
    "              'ytick.major.size': 7,\n",
    "              'xtick.major.width': 2.0,\n",
    "              'ytick.major.width': 2.0,\n",
    "              'xtick.direction': 'in',\n",
    "              'ytick.direction': 'in',\n",
    "              'font.size': 24,\n",
    "              'axes.linewidth': 2.0,\n",
    "              'lines.dashed_pattern': (5, 2.5),\n",
    "              'lines.markersize': 10,\n",
    "              'lines.linewidth': 3,\n",
    "              'lines.markeredgewidth': 1,\n",
    "              'lines.markeredgecolor': 'k',\n",
    "              'legend.fontsize': 16,  # Adjust the font size of the legend\n",
    "              'legend.title_fontsize': 24,  # Increase legend title size if needed\n",
    "              'legend.frameon': True\n",
    "    }\n",
    "plt.rcParams.update(plt_params)"
   ]
  },
  {
   "cell_type": "code",
   "execution_count": null,
   "metadata": {},
   "outputs": [],
   "source": [
    "dirs = [d for d in os.listdir(os.getcwd()) if os.path.isdir(d)]\n",
    "for dd in dirs:\n",
    "    mpr2csv(dd)"
   ]
  },
  {
   "cell_type": "code",
   "execution_count": null,
   "metadata": {},
   "outputs": [],
   "source": [
    "csvs = glob.glob(f'outputs/*.csv')\n",
    "print(csvs)\n",
    "csvs = sorted(csvs)\n",
    "df = pd.read_csv(csvs[0])\n",
    "summary = pd.read_csv(csvs[1])\n",
    "cycles = summary['full cycle'].tolist()\n",
    "fig, ax = ec.charge_discharge_plot(df,cycles=cycles,norm='mass')\n",
    "plt.savefig(f'outputs/cycle.png',dpi=300,bbox_inches='tight')"
   ]
  },
  {
   "cell_type": "code",
   "execution_count": null,
   "metadata": {},
   "outputs": [],
   "source": []
  }
 ],
 "metadata": {
  "kernelspec": {
   "display_name": "navani",
   "language": "python",
   "name": "python3"
  },
  "language_info": {
   "codemirror_mode": {
    "name": "ipython",
    "version": 3
   },
   "file_extension": ".py",
   "mimetype": "text/x-python",
   "name": "python",
   "nbconvert_exporter": "python",
   "pygments_lexer": "ipython3",
   "version": "3.11.0"
  }
 },
 "nbformat": 4,
 "nbformat_minor": 2
}
